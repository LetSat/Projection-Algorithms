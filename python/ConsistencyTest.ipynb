{
 "cells": [
  {
   "cell_type": "code",
   "execution_count": 1,
   "metadata": {},
   "outputs": [],
   "source": [
    "import math\n",
    "import random\n",
    "from CameraProjections import *\n",
    "\n",
    "ALTITUDE = 2000\n"
   ]
  },
  {
   "cell_type": "code",
   "execution_count": 7,
   "metadata": {},
   "outputs": [
    {
     "name": "stdout",
     "output_type": "stream",
     "text": [
      "-75.0 118.0\n",
      "-61.0 -180.0\n",
      "[0.8895089226297342, -0.8725419622206564]\n",
      "-61.0 180.0\n",
      "\n",
      "50.0 -176.0\n",
      "34.0 -180.0\n",
      "[0.6745037357798679, 258.08582102692105]\n",
      "34.0 180.0\n",
      "\n",
      "5.0 -176.0\n",
      "23.0 -180.0\n",
      "[0.7372228092021903, -258.26866896673715]\n",
      "23.0 180.0\n",
      "\n"
     ]
    }
   ],
   "source": [
    "offset = 90\n",
    "\n",
    "for i in range(0, 10000):\n",
    "  clat = 1.0*random.randint(-89,89)\n",
    "  clong = 1.0*random.randint(-180,179)\n",
    "  plat = 1.0*random.randint(max(-89, clat - offset), min(89, clat + offset))\n",
    "  plong = 1.0*random.randint(-offset,offset) + clong\n",
    "  plong = (plong+360+180) % 360 - 180\n",
    "  #plong = clong\n",
    "  pd = polarDistance(plat, plong, prePolarDistance(ALTITUDE, clat, clong))\n",
    "  rev = latLong(pd[0], pd[1], preLatLong(ALTITUDE, clat, clong))\n",
    "  latOut = rev[0]\n",
    "  longOut = rev[1]\n",
    "  if (abs(latOut - plat) > 0.00001 or abs(longOut - plong) > 0.00001) and  :\n",
    "    print clat, clong\n",
    "    print plat, plong\n",
    "    print pd\n",
    "    print latOut, longOut\n",
    "    print \"\"\n",
    "  \n",
    "# No output indicates all random checks passed"
   ]
  },
  {
   "cell_type": "code",
   "execution_count": null,
   "metadata": {},
   "outputs": [],
   "source": []
  },
  {
   "cell_type": "code",
   "execution_count": null,
   "metadata": {},
   "outputs": [],
   "source": []
  }
 ],
 "metadata": {
  "kernelspec": {
   "display_name": "Python 2",
   "language": "python",
   "name": "python2"
  },
  "language_info": {
   "codemirror_mode": {
    "name": "ipython",
    "version": 2
   },
   "file_extension": ".py",
   "mimetype": "text/x-python",
   "name": "python",
   "nbconvert_exporter": "python",
   "pygments_lexer": "ipython2",
   "version": "2.7.12"
  }
 },
 "nbformat": 4,
 "nbformat_minor": 2
}
