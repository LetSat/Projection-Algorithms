{
 "cells": [
  {
   "cell_type": "code",
   "execution_count": 1,
   "metadata": {},
   "outputs": [],
   "source": [
    "import math\n",
    "import random\n",
    "from CameraProjections import *\n",
    "\n",
    "ALTITUDE = 2000\n"
   ]
  },
  {
   "cell_type": "code",
   "execution_count": 2,
   "metadata": {},
   "outputs": [],
   "source": [
    "offset = 17\n",
    "\n",
    "for i in range(0, 10000):\n",
    "  clat = 1.0*random.randint(-89,89)\n",
    "  clong = 1.0*random.randint(-180,179)\n",
    "  plat = 1.0*random.randint(max(-89, clat - offset), min(89, clat + offset))\n",
    "  plong = 1.0*random.randint(-offset,offset) + clong\n",
    "  #plong = clong\n",
    "  pd = polarDistance(ALTITUDE, clat, clong, plat, plong)\n",
    "  rev = latLong(ALTITUDE, clat, clong, pd[0], pd[1])\n",
    "  if abs(rev[0] - plat) > 0.00001 and abs(rev[1] - plong) < 0.00001 :\n",
    "    print clat, clong\n",
    "    print plat, plong\n",
    "    print pd\n",
    "    print rev[0], rev[1]\n",
    "    print \"\"\n",
    "  \n",
    "# No output indicates all random checks passed"
   ]
  },
  {
   "cell_type": "code",
   "execution_count": null,
   "metadata": {},
   "outputs": [],
   "source": []
  },
  {
   "cell_type": "code",
   "execution_count": null,
   "metadata": {},
   "outputs": [],
   "source": []
  }
 ],
 "metadata": {
  "kernelspec": {
   "display_name": "Python 2",
   "language": "python",
   "name": "python2"
  },
  "language_info": {
   "codemirror_mode": {
    "name": "ipython",
    "version": 2
   },
   "file_extension": ".py",
   "mimetype": "text/x-python",
   "name": "python",
   "nbconvert_exporter": "python",
   "pygments_lexer": "ipython2",
   "version": "2.7.12"
  }
 },
 "nbformat": 4,
 "nbformat_minor": 2
}
