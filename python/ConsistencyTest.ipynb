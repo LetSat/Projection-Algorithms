{
 "cells": [
  {
   "cell_type": "code",
   "execution_count": 2,
   "metadata": {},
   "outputs": [],
   "source": [
    "import math\n",
    "import random\n",
    "from CameraProjections import *\n",
    "\n",
    "ALTITUDE = 2000\n"
   ]
  },
  {
   "cell_type": "code",
   "execution_count": 3,
   "metadata": {},
   "outputs": [
    {
     "name": "stdout",
     "output_type": "stream",
     "text": [
      "-33.0 152.0\n",
      "-67.0 -180.0\n",
      "[0.9972337327847681, -72.56512557547555]\n",
      "-67.0 180.0\n",
      "\n",
      "70.0 127.0\n",
      "67.0 -180.0\n",
      "[0.7536625339898819, 16.741172842425904]\n",
      "67.0 180.0\n",
      "\n",
      "-29.0 -178.0\n",
      "-62.0 -180.0\n",
      "[0.976897190778976, 268.2773347795718]\n",
      "-62.0 180.0\n",
      "\n",
      "67.0 144.0\n",
      "62.0 -180.0\n",
      "[0.6667971747338756, -0.9596430920013653]\n",
      "62.0 180.0\n",
      "\n",
      "-47.0 -166.0\n",
      "-21.0 -180.0\n",
      "[0.9330935498598142, -241.62192638499542]\n",
      "-21.0 180.0\n",
      "\n"
     ]
    }
   ],
   "source": [
    "offset = 90\n",
    "\n",
    "for i in range(0, 10000):\n",
    "  clat = 1.0*random.randint(-89,89)\n",
    "  clong = 1.0*random.randint(-180,179)\n",
    "  plat = 1.0*random.randint(max(-89, clat - offset), min(89, clat + offset))\n",
    "  plong = 1.0*random.randint(-offset,offset) + clong\n",
    "  plong = (plong+360+180) % 360 - 180\n",
    "  #plong = clong\n",
    "  pd = polarDistance(plat, plong, prePolarDistance(ALTITUDE, clat, clong))\n",
    "  rev = latLong(pd[0], pd[1], preLatLong(ALTITUDE, clat, clong))\n",
    "  latOut = rev[0]\n",
    "  longOut = rev[1]\n",
    "  if (abs(latOut - plat) > 0.00001 or abs(longOut - plong) > 0.00001)  :\n",
    "    print clat, clong\n",
    "    print plat, plong\n",
    "    print pd\n",
    "    print latOut, longOut\n",
    "    print \"\"\n",
    "  \n",
    "# No output indicates all random checks passed"
   ]
  },
  {
   "cell_type": "code",
   "execution_count": null,
   "metadata": {},
   "outputs": [],
   "source": []
  },
  {
   "cell_type": "code",
   "execution_count": null,
   "metadata": {},
   "outputs": [],
   "source": []
  }
 ],
 "metadata": {
  "kernelspec": {
   "display_name": "Python 2",
   "language": "python",
   "name": "python2"
  },
  "language_info": {
   "codemirror_mode": {
    "name": "ipython",
    "version": 2
   },
   "file_extension": ".py",
   "mimetype": "text/x-python",
   "name": "python",
   "nbconvert_exporter": "python",
   "pygments_lexer": "ipython2",
   "version": "2.7.12"
  }
 },
 "nbformat": 4,
 "nbformat_minor": 2
}
